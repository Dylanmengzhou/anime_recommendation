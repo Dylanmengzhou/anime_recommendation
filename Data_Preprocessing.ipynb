{
 "cells": [
  {
   "cell_type": "code",
   "execution_count": 228,
   "metadata": {},
   "outputs": [],
   "source": [
    "import numpy as np\n",
    "import pandas as pd\n",
    "import matplotlib.pyplot as plt\n",
    "import seaborn as sns"
   ]
  },
  {
   "cell_type": "code",
   "execution_count": 229,
   "metadata": {},
   "outputs": [],
   "source": [
    "anime = pd.read_csv(\"./anime.csv\")"
   ]
  },
  {
   "cell_type": "markdown",
   "metadata": {},
   "source": [
    "# Data preprocessing"
   ]
  },
  {
   "cell_type": "markdown",
   "metadata": {},
   "source": [
    "first need to check the datatypes of the columns"
   ]
  },
  {
   "cell_type": "code",
   "execution_count": 230,
   "metadata": {},
   "outputs": [
    {
     "data": {
      "text/html": [
       "<div>\n",
       "<style scoped>\n",
       "    .dataframe tbody tr th:only-of-type {\n",
       "        vertical-align: middle;\n",
       "    }\n",
       "\n",
       "    .dataframe tbody tr th {\n",
       "        vertical-align: top;\n",
       "    }\n",
       "\n",
       "    .dataframe thead th {\n",
       "        text-align: right;\n",
       "    }\n",
       "</style>\n",
       "<table border=\"1\" class=\"dataframe\">\n",
       "  <thead>\n",
       "    <tr style=\"text-align: right;\">\n",
       "      <th></th>\n",
       "      <th>anime_id</th>\n",
       "      <th>name</th>\n",
       "      <th>genre</th>\n",
       "      <th>type</th>\n",
       "      <th>episodes</th>\n",
       "      <th>rating</th>\n",
       "      <th>members</th>\n",
       "    </tr>\n",
       "  </thead>\n",
       "  <tbody>\n",
       "    <tr>\n",
       "      <th>0</th>\n",
       "      <td>32281</td>\n",
       "      <td>Kimi no Na wa.</td>\n",
       "      <td>Drama, Romance, School, Supernatural</td>\n",
       "      <td>Movie</td>\n",
       "      <td>1</td>\n",
       "      <td>9.37</td>\n",
       "      <td>200630</td>\n",
       "    </tr>\n",
       "    <tr>\n",
       "      <th>1</th>\n",
       "      <td>5114</td>\n",
       "      <td>Fullmetal Alchemist: Brotherhood</td>\n",
       "      <td>Action, Adventure, Drama, Fantasy, Magic, Mili...</td>\n",
       "      <td>TV</td>\n",
       "      <td>64</td>\n",
       "      <td>9.26</td>\n",
       "      <td>793665</td>\n",
       "    </tr>\n",
       "    <tr>\n",
       "      <th>2</th>\n",
       "      <td>28977</td>\n",
       "      <td>Gintama°</td>\n",
       "      <td>Action, Comedy, Historical, Parody, Samurai, S...</td>\n",
       "      <td>TV</td>\n",
       "      <td>51</td>\n",
       "      <td>9.25</td>\n",
       "      <td>114262</td>\n",
       "    </tr>\n",
       "    <tr>\n",
       "      <th>3</th>\n",
       "      <td>9253</td>\n",
       "      <td>Steins;Gate</td>\n",
       "      <td>Sci-Fi, Thriller</td>\n",
       "      <td>TV</td>\n",
       "      <td>24</td>\n",
       "      <td>9.17</td>\n",
       "      <td>673572</td>\n",
       "    </tr>\n",
       "    <tr>\n",
       "      <th>4</th>\n",
       "      <td>9969</td>\n",
       "      <td>Gintama&amp;#039;</td>\n",
       "      <td>Action, Comedy, Historical, Parody, Samurai, S...</td>\n",
       "      <td>TV</td>\n",
       "      <td>51</td>\n",
       "      <td>9.16</td>\n",
       "      <td>151266</td>\n",
       "    </tr>\n",
       "  </tbody>\n",
       "</table>\n",
       "</div>"
      ],
      "text/plain": [
       "   anime_id                              name  \\\n",
       "0     32281                    Kimi no Na wa.   \n",
       "1      5114  Fullmetal Alchemist: Brotherhood   \n",
       "2     28977                          Gintama°   \n",
       "3      9253                       Steins;Gate   \n",
       "4      9969                     Gintama&#039;   \n",
       "\n",
       "                                               genre   type episodes  rating  \\\n",
       "0               Drama, Romance, School, Supernatural  Movie        1    9.37   \n",
       "1  Action, Adventure, Drama, Fantasy, Magic, Mili...     TV       64    9.26   \n",
       "2  Action, Comedy, Historical, Parody, Samurai, S...     TV       51    9.25   \n",
       "3                                   Sci-Fi, Thriller     TV       24    9.17   \n",
       "4  Action, Comedy, Historical, Parody, Samurai, S...     TV       51    9.16   \n",
       "\n",
       "   members  \n",
       "0   200630  \n",
       "1   793665  \n",
       "2   114262  \n",
       "3   673572  \n",
       "4   151266  "
      ]
     },
     "execution_count": 230,
     "metadata": {},
     "output_type": "execute_result"
    }
   ],
   "source": [
    "anime.head()"
   ]
  },
  {
   "cell_type": "code",
   "execution_count": 231,
   "metadata": {},
   "outputs": [
    {
     "data": {
      "text/plain": [
       "(12294, 7)"
      ]
     },
     "execution_count": 231,
     "metadata": {},
     "output_type": "execute_result"
    }
   ],
   "source": [
    "anime.shape"
   ]
  },
  {
   "cell_type": "code",
   "execution_count": 232,
   "metadata": {},
   "outputs": [
    {
     "data": {
      "text/plain": [
       "anime_id      int64\n",
       "name         object\n",
       "genre        object\n",
       "type         object\n",
       "episodes     object\n",
       "rating      float64\n",
       "members       int64\n",
       "dtype: object"
      ]
     },
     "execution_count": 232,
     "metadata": {},
     "output_type": "execute_result"
    }
   ],
   "source": [
    "\n",
    "anime.dtypes"
   ]
  },
  {
   "cell_type": "markdown",
   "metadata": {},
   "source": [
    "Most of the data type is reasonable, but the episodes shouldn't be object type, should be integer instead"
   ]
  },
  {
   "cell_type": "markdown",
   "metadata": {},
   "source": [
    "Let check the unique values inside the episodes value"
   ]
  },
  {
   "cell_type": "code",
   "execution_count": 233,
   "metadata": {},
   "outputs": [],
   "source": [
    "episodes = anime.episodes\n"
   ]
  },
  {
   "cell_type": "code",
   "execution_count": 234,
   "metadata": {},
   "outputs": [
    {
     "data": {
      "text/plain": [
       "array(['1', '64', '51', '24', '10', '148', '110', '13', '201', '25', '22',\n",
       "       '75', '4', '26', '12', '27', '43', '74', '37', '2', '11', '99',\n",
       "       'Unknown', '39', '101', '47', '50', '62', '33', '112', '23', '3',\n",
       "       '94', '6', '8', '14', '7', '40', '15', '203', '77', '291', '120',\n",
       "       '102', '96', '38', '79', '175', '103', '70', '153', '45', '5',\n",
       "       '21', '63', '52', '28', '145', '36', '69', '60', '178', '114',\n",
       "       '35', '61', '34', '109', '20', '9', '49', '366', '97', '48', '78',\n",
       "       '358', '155', '104', '113', '54', '167', '161', '42', '142', '31',\n",
       "       '373', '220', '46', '195', '17', '1787', '73', '147', '127', '16',\n",
       "       '19', '98', '150', '76', '53', '124', '29', '115', '224', '44',\n",
       "       '58', '93', '154', '92', '67', '172', '86', '30', '276', '59',\n",
       "       '72', '330', '41', '105', '128', '137', '56', '55', '65', '243',\n",
       "       '193', '18', '191', '180', '91', '192', '66', '182', '32', '164',\n",
       "       '100', '296', '694', '95', '68', '117', '151', '130', '87', '170',\n",
       "       '119', '84', '108', '156', '140', '331', '305', '300', '510',\n",
       "       '200', '88', '1471', '526', '143', '726', '136', '1818', '237',\n",
       "       '1428', '365', '163', '283', '71', '260', '199', '225', '312',\n",
       "       '240', '1306', '1565', '773', '1274', '90', '475', '263', '83',\n",
       "       '85', '1006', '80', '162', '132', '141', '125'], dtype=object)"
      ]
     },
     "execution_count": 234,
     "metadata": {},
     "output_type": "execute_result"
    }
   ],
   "source": [
    "episodes.unique()"
   ]
  },
  {
   "cell_type": "markdown",
   "metadata": {},
   "source": [
    "Now we know that the column include Unkown values, let's check total number of Unknow value"
   ]
  },
  {
   "cell_type": "code",
   "execution_count": 235,
   "metadata": {},
   "outputs": [
    {
     "data": {
      "text/plain": [
       "340"
      ]
     },
     "execution_count": 235,
     "metadata": {},
     "output_type": "execute_result"
    }
   ],
   "source": [
    "# check the number of Unknown values\n",
    "(episodes==\"Unknown\").sum()"
   ]
  },
  {
   "cell_type": "code",
   "execution_count": 236,
   "metadata": {},
   "outputs": [
    {
     "name": "stdout",
     "output_type": "stream",
     "text": [
      "2.7655767040832924 %\n"
     ]
    }
   ],
   "source": [
    "# check the portion of Unknown values\n",
    "ep_percent=((episodes==\"Unknown\").sum()/len(episodes))*100\n",
    "print(ep_percent,\"%\")\n"
   ]
  },
  {
   "cell_type": "markdown",
   "metadata": {},
   "source": [
    "There are only 2 persents of Unknow value, so just drop the unknown value"
   ]
  },
  {
   "cell_type": "code",
   "execution_count": 237,
   "metadata": {},
   "outputs": [
    {
     "data": {
      "text/plain": [
       "array(['1', '64', '51', '24', '10', '148', '110', '13', '201', '25', '22',\n",
       "       '75', '4', '26', '12', '27', '43', '74', '37', '2', '11', '99',\n",
       "       '200', '39', '101', '47', '50', '62', '33', '112', '23', '3', '94',\n",
       "       '6', '8', '14', '7', '40', '15', '203', '77', '291', '120', '102',\n",
       "       '96', '38', '79', '175', '103', '70', '153', '45', '5', '21', '63',\n",
       "       '52', '28', '145', '36', '69', '60', '178', '114', '35', '61',\n",
       "       '34', '109', '20', '9', '49', '366', '97', '48', '78', '358',\n",
       "       '155', '104', '113', '54', '167', '161', '42', '142', '31', '373',\n",
       "       '220', '46', '195', '17', '1787', '73', '147', '127', '16', '19',\n",
       "       '98', '150', '76', '53', '124', '29', '115', '224', '44', '58',\n",
       "       '93', '154', '92', '67', '172', '86', '30', '276', '59', '72',\n",
       "       '330', '41', '105', '128', '137', '56', '55', '65', '243', '193',\n",
       "       '18', '191', '180', '91', '192', '66', '182', '32', '164', '100',\n",
       "       '296', '694', '95', '68', '117', '151', '130', '87', '170', '119',\n",
       "       '84', '108', '156', '140', '331', '305', '300', '510', '88',\n",
       "       '1471', '526', '143', '726', '136', '1818', '237', '1428', '365',\n",
       "       '163', '283', '71', '260', '199', '225', '312', '240', '1306',\n",
       "       '1565', '773', '1274', '90', '475', '263', '83', '85', '1006',\n",
       "       '80', '162', '132', '141', '125'], dtype=object)"
      ]
     },
     "execution_count": 237,
     "metadata": {},
     "output_type": "execute_result"
    }
   ],
   "source": [
    "# drop the unknown values\n",
    "# anime = anime.drop(anime[anime.episodes==\"Unknown\"].index)\n",
    "# anime.loc[(anime[\"genre\"]==\"Hentai\") & (anime[\"episodes\"]==\"Unknown\"),\"episodes\"] = \"1\"\n",
    "# anime.loc[(anime[\"type\"]==\"OVA\") & (anime[\"episodes\"]==\"Unknown\"),\"episodes\"] = \"1\"\n",
    "\n",
    "# anime.loc[(anime[\"type\"] == \"Movie\") & (anime[\"episodes\"] == \"Unknown\")] = \"1\"\n",
    "# anime[\"episodes\"] = anime[\"episodes\"].map(lambda x:np.nan if x==\"Unknown\" else x)\n",
    "# anime[\"episodes\"].fillna(anime[\"episodes\"].median(),inplace = True)\n",
    "anime.loc[(anime[\"episodes\"]==\"Unknown\"),\"episodes\"] = \"200\"\n",
    "anime.episodes.unique()"
   ]
  },
  {
   "cell_type": "code",
   "execution_count": 238,
   "metadata": {},
   "outputs": [
    {
     "data": {
      "text/plain": [
       "0"
      ]
     },
     "execution_count": 238,
     "metadata": {},
     "output_type": "execute_result"
    }
   ],
   "source": [
    "(anime.episodes==\"Unknown\").sum()"
   ]
  },
  {
   "cell_type": "code",
   "execution_count": 239,
   "metadata": {},
   "outputs": [
    {
     "data": {
      "text/plain": [
       "array(['Movie', 'TV', 'OVA', 'Special', 'Music', 'ONA', nan], dtype=object)"
      ]
     },
     "execution_count": 239,
     "metadata": {},
     "output_type": "execute_result"
    }
   ],
   "source": [
    "# check the unique value in type attribute\n",
    "anime.type.unique()"
   ]
  },
  {
   "cell_type": "code",
   "execution_count": 240,
   "metadata": {},
   "outputs": [
    {
     "data": {
      "text/plain": [
       "230"
      ]
     },
     "execution_count": 240,
     "metadata": {},
     "output_type": "execute_result"
    }
   ],
   "source": [
    "anime.rating.isna().sum()"
   ]
  },
  {
   "cell_type": "code",
   "execution_count": 241,
   "metadata": {},
   "outputs": [],
   "source": [
    "#drop the missing values in rating\n",
    "anime = anime.drop(anime[anime.rating.isna()].index)"
   ]
  },
  {
   "cell_type": "code",
   "execution_count": 242,
   "metadata": {},
   "outputs": [
    {
     "data": {
      "text/plain": [
       "(12064, 7)"
      ]
     },
     "execution_count": 242,
     "metadata": {},
     "output_type": "execute_result"
    }
   ],
   "source": [
    "anime.shape"
   ]
  },
  {
   "cell_type": "code",
   "execution_count": 243,
   "metadata": {},
   "outputs": [
    {
     "data": {
      "text/plain": [
       "0"
      ]
     },
     "execution_count": 243,
     "metadata": {},
     "output_type": "execute_result"
    }
   ],
   "source": [
    "anime.rating.isna().sum()\n"
   ]
  },
  {
   "cell_type": "code",
   "execution_count": 244,
   "metadata": {},
   "outputs": [
    {
     "data": {
      "text/plain": [
       "<AxesSubplot:>"
      ]
     },
     "execution_count": 244,
     "metadata": {},
     "output_type": "execute_result"
    },
    {
     "data": {
      "image/png": "[encoded data removed]",
      "text/plain": [
       "<Figure size 432x288 with 1 Axes>"
      ]
     },
     "metadata": {
      "needs_background": "light"
     },
     "output_type": "display_data"
    }
   ],
   "source": [
    "#check the distribution of the rating by range\n",
    "anime.rating.astype(float).hist(bins=500)\n"
   ]
  },
  {
   "cell_type": "code",
   "execution_count": 245,
   "metadata": {},
   "outputs": [],
   "source": [
    "#in order to make the data normalized, just drop the rating below 3, also the rating is not helpful because it means most people don't like the anime\n",
    "anime = anime.drop(anime[anime.rating.astype(float)<2].index)"
   ]
  },
  {
   "cell_type": "code",
   "execution_count": 246,
   "metadata": {},
   "outputs": [
    {
     "data": {
      "text/plain": [
       "<AxesSubplot:>"
      ]
     },
     "execution_count": 246,
     "metadata": {},
     "output_type": "execute_result"
    },
    {
     "data": {
      "image/png": "[encoded data removed]",
      "text/plain": [
       "<Figure size 432x288 with 1 Axes>"
      ]
     },
     "metadata": {
      "needs_background": "light"
     },
     "output_type": "display_data"
    }
   ],
   "source": [
    "anime.rating.astype(float).hist(bins=50)"
   ]
  },
  {
   "cell_type": "code",
   "execution_count": 247,
   "metadata": {},
   "outputs": [
    {
     "data": {
      "text/plain": [
       "<AxesSubplot:>"
      ]
     },
     "execution_count": 247,
     "metadata": {},
     "output_type": "execute_result"
    },
    {
     "data": {
      "image/png": "[encoded data removed]",
      "text/plain": [
       "<Figure size 432x288 with 1 Axes>"
      ]
     },
     "metadata": {
      "needs_background": "light"
     },
     "output_type": "display_data"
    }
   ],
   "source": [
    "#check the distribution of the type attribute\n",
    "anime.type.hist(bins=5)"
   ]
  },
  {
   "cell_type": "code",
   "execution_count": 248,
   "metadata": {},
   "outputs": [
    {
     "data": {
      "text/plain": [
       "(12062, 7)"
      ]
     },
     "execution_count": 248,
     "metadata": {},
     "output_type": "execute_result"
    }
   ],
   "source": [
    "#that seems not bad, so i just leave that\n",
    "anime.shape"
   ]
  },
  {
   "cell_type": "markdown",
   "metadata": {},
   "source": [
    "# Feature Engineering"
   ]
  },
  {
   "cell_type": "markdown",
   "metadata": {},
   "source": [
    "In order to fit the KNN model, we have to transfer the catergorical value into numerical value by using one hot encoding.\n",
    "The next step is to figure out the how to transfer the type."
   ]
  },
  {
   "cell_type": "code",
   "execution_count": 249,
   "metadata": {},
   "outputs": [],
   "source": [
    "# firstly, let's transform the genre attribute into seprate columns\n",
    "genre_dummies = anime[\"genre\"].str.get_dummies(sep=\", \")\n",
    "anime = pd.concat([anime, genre_dummies], axis=1)\n"
   ]
  },
  {
   "cell_type": "code",
   "execution_count": 250,
   "metadata": {},
   "outputs": [
    {
     "data": {
      "text/html": [
       "<div>\n",
       "<style scoped>\n",
       "    .dataframe tbody tr th:only-of-type {\n",
       "        vertical-align: middle;\n",
       "    }\n",
       "\n",
       "    .dataframe tbody tr th {\n",
       "        vertical-align: top;\n",
       "    }\n",
       "\n",
       "    .dataframe thead th {\n",
       "        text-align: right;\n",
       "    }\n",
       "</style>\n",
       "<table border=\"1\" class=\"dataframe\">\n",
       "  <thead>\n",
       "    <tr style=\"text-align: right;\">\n",
       "      <th></th>\n",
       "      <th>anime_id</th>\n",
       "      <th>name</th>\n",
       "      <th>genre</th>\n",
       "      <th>type</th>\n",
       "      <th>episodes</th>\n",
       "      <th>rating</th>\n",
       "      <th>members</th>\n",
       "      <th>Action</th>\n",
       "      <th>Adventure</th>\n",
       "      <th>Cars</th>\n",
       "      <th>...</th>\n",
       "      <th>Shounen Ai</th>\n",
       "      <th>Slice of Life</th>\n",
       "      <th>Space</th>\n",
       "      <th>Sports</th>\n",
       "      <th>Super Power</th>\n",
       "      <th>Supernatural</th>\n",
       "      <th>Thriller</th>\n",
       "      <th>Vampire</th>\n",
       "      <th>Yaoi</th>\n",
       "      <th>Yuri</th>\n",
       "    </tr>\n",
       "  </thead>\n",
       "  <tbody>\n",
       "    <tr>\n",
       "      <th>0</th>\n",
       "      <td>32281</td>\n",
       "      <td>Kimi no Na wa.</td>\n",
       "      <td>Drama, Romance, School, Supernatural</td>\n",
       "      <td>Movie</td>\n",
       "      <td>1</td>\n",
       "      <td>9.37</td>\n",
       "      <td>200630</td>\n",
       "      <td>0</td>\n",
       "      <td>0</td>\n",
       "      <td>0</td>\n",
       "      <td>...</td>\n",
       "      <td>0</td>\n",
       "      <td>0</td>\n",
       "      <td>0</td>\n",
       "      <td>0</td>\n",
       "      <td>0</td>\n",
       "      <td>1</td>\n",
       "      <td>0</td>\n",
       "      <td>0</td>\n",
       "      <td>0</td>\n",
       "      <td>0</td>\n",
       "    </tr>\n",
       "    <tr>\n",
       "      <th>1</th>\n",
       "      <td>5114</td>\n",
       "      <td>Fullmetal Alchemist: Brotherhood</td>\n",
       "      <td>Action, Adventure, Drama, Fantasy, Magic, Mili...</td>\n",
       "      <td>TV</td>\n",
       "      <td>64</td>\n",
       "      <td>9.26</td>\n",
       "      <td>793665</td>\n",
       "      <td>1</td>\n",
       "      <td>1</td>\n",
       "      <td>0</td>\n",
       "      <td>...</td>\n",
       "      <td>0</td>\n",
       "      <td>0</td>\n",
       "      <td>0</td>\n",
       "      <td>0</td>\n",
       "      <td>0</td>\n",
       "      <td>0</td>\n",
       "      <td>0</td>\n",
       "      <td>0</td>\n",
       "      <td>0</td>\n",
       "      <td>0</td>\n",
       "    </tr>\n",
       "    <tr>\n",
       "      <th>2</th>\n",
       "      <td>28977</td>\n",
       "      <td>Gintama°</td>\n",
       "      <td>Action, Comedy, Historical, Parody, Samurai, S...</td>\n",
       "      <td>TV</td>\n",
       "      <td>51</td>\n",
       "      <td>9.25</td>\n",
       "      <td>114262</td>\n",
       "      <td>1</td>\n",
       "      <td>0</td>\n",
       "      <td>0</td>\n",
       "      <td>...</td>\n",
       "      <td>0</td>\n",
       "      <td>0</td>\n",
       "      <td>0</td>\n",
       "      <td>0</td>\n",
       "      <td>0</td>\n",
       "      <td>0</td>\n",
       "      <td>0</td>\n",
       "      <td>0</td>\n",
       "      <td>0</td>\n",
       "      <td>0</td>\n",
       "    </tr>\n",
       "    <tr>\n",
       "      <th>3</th>\n",
       "      <td>9253</td>\n",
       "      <td>Steins;Gate</td>\n",
       "      <td>Sci-Fi, Thriller</td>\n",
       "      <td>TV</td>\n",
       "      <td>24</td>\n",
       "      <td>9.17</td>\n",
       "      <td>673572</td>\n",
       "      <td>0</td>\n",
       "      <td>0</td>\n",
       "      <td>0</td>\n",
       "      <td>...</td>\n",
       "      <td>0</td>\n",
       "      <td>0</td>\n",
       "      <td>0</td>\n",
       "      <td>0</td>\n",
       "      <td>0</td>\n",
       "      <td>0</td>\n",
       "      <td>1</td>\n",
       "      <td>0</td>\n",
       "      <td>0</td>\n",
       "      <td>0</td>\n",
       "    </tr>\n",
       "    <tr>\n",
       "      <th>4</th>\n",
       "      <td>9969</td>\n",
       "      <td>Gintama&amp;#039;</td>\n",
       "      <td>Action, Comedy, Historical, Parody, Samurai, S...</td>\n",
       "      <td>TV</td>\n",
       "      <td>51</td>\n",
       "      <td>9.16</td>\n",
       "      <td>151266</td>\n",
       "      <td>1</td>\n",
       "      <td>0</td>\n",
       "      <td>0</td>\n",
       "      <td>...</td>\n",
       "      <td>0</td>\n",
       "      <td>0</td>\n",
       "      <td>0</td>\n",
       "      <td>0</td>\n",
       "      <td>0</td>\n",
       "      <td>0</td>\n",
       "      <td>0</td>\n",
       "      <td>0</td>\n",
       "      <td>0</td>\n",
       "      <td>0</td>\n",
       "    </tr>\n",
       "  </tbody>\n",
       "</table>\n",
       "<p>5 rows × 50 columns</p>\n",
       "</div>"
      ],
      "text/plain": [
       "   anime_id                              name  \\\n",
       "0     32281                    Kimi no Na wa.   \n",
       "1      5114  Fullmetal Alchemist: Brotherhood   \n",
       "2     28977                          Gintama°   \n",
       "3      9253                       Steins;Gate   \n",
       "4      9969                     Gintama&#039;   \n",
       "\n",
       "                                               genre   type episodes  rating  \\\n",
       "0               Drama, Romance, School, Supernatural  Movie        1    9.37   \n",
       "1  Action, Adventure, Drama, Fantasy, Magic, Mili...     TV       64    9.26   \n",
       "2  Action, Comedy, Historical, Parody, Samurai, S...     TV       51    9.25   \n",
       "3                                   Sci-Fi, Thriller     TV       24    9.17   \n",
       "4  Action, Comedy, Historical, Parody, Samurai, S...     TV       51    9.16   \n",
       "\n",
       "   members  Action  Adventure  Cars  ...  Shounen Ai  Slice of Life  Space  \\\n",
       "0   200630       0          0     0  ...           0              0      0   \n",
       "1   793665       1          1     0  ...           0              0      0   \n",
       "2   114262       1          0     0  ...           0              0      0   \n",
       "3   673572       0          0     0  ...           0              0      0   \n",
       "4   151266       1          0     0  ...           0              0      0   \n",
       "\n",
       "   Sports  Super Power  Supernatural  Thriller  Vampire  Yaoi  Yuri  \n",
       "0       0            0             1         0        0     0     0  \n",
       "1       0            0             0         0        0     0     0  \n",
       "2       0            0             0         0        0     0     0  \n",
       "3       0            0             0         1        0     0     0  \n",
       "4       0            0             0         0        0     0     0  \n",
       "\n",
       "[5 rows x 50 columns]"
      ]
     },
     "execution_count": 250,
     "metadata": {},
     "output_type": "execute_result"
    }
   ],
   "source": [
    "anime.head()"
   ]
  },
  {
   "cell_type": "code",
   "execution_count": 251,
   "metadata": {},
   "outputs": [
    {
     "data": {
      "text/plain": [
       "50"
      ]
     },
     "execution_count": 251,
     "metadata": {},
     "output_type": "execute_result"
    }
   ],
   "source": [
    "len(anime.columns)"
   ]
  },
  {
   "cell_type": "code",
   "execution_count": 252,
   "metadata": {},
   "outputs": [
    {
     "data": {
      "text/plain": [
       "Index(['anime_id', 'name', 'genre', 'type', 'episodes', 'rating', 'members',\n",
       "       'Action', 'Adventure', 'Cars', 'Comedy', 'Dementia', 'Demons', 'Drama',\n",
       "       'Ecchi', 'Fantasy', 'Game', 'Harem', 'Hentai', 'Historical', 'Horror',\n",
       "       'Josei', 'Kids', 'Magic', 'Martial Arts', 'Mecha', 'Military', 'Music',\n",
       "       'Mystery', 'Parody', 'Police', 'Psychological', 'Romance', 'Samurai',\n",
       "       'School', 'Sci-Fi', 'Seinen', 'Shoujo', 'Shoujo Ai', 'Shounen',\n",
       "       'Shounen Ai', 'Slice of Life', 'Space', 'Sports', 'Super Power',\n",
       "       'Supernatural', 'Thriller', 'Vampire', 'Yaoi', 'Yuri'],\n",
       "      dtype='object')"
      ]
     },
     "execution_count": 252,
     "metadata": {},
     "output_type": "execute_result"
    }
   ],
   "source": [
    "anime.columns"
   ]
  },
  {
   "cell_type": "code",
   "execution_count": 253,
   "metadata": {},
   "outputs": [
    {
     "name": "stdout",
     "output_type": "stream",
     "text": [
      "error\n"
     ]
    },
    {
     "data": {
      "text/plain": [
       "{'Comedy': 4575,\n",
       " 'Action': 2767,\n",
       " 'Adventure': 2316,\n",
       " 'Fantasy': 2242,\n",
       " 'Sci-Fi': 2035,\n",
       " 'Drama': 1977,\n",
       " 'Shounen': 1683,\n",
       " 'Kids': 1598,\n",
       " 'Romance': 1437,\n",
       " 'Slice of Life': 1203,\n",
       " 'School': 1176,\n",
       " 'Hentai': 1132,\n",
       " 'Supernatural': 1001,\n",
       " 'Mecha': 929,\n",
       " 'Music': 842,\n",
       " 'Historical': 798,\n",
       " 'Magic': 747,\n",
       " 'Ecchi': 628,\n",
       " 'Shoujo': 594,\n",
       " 'Sports': 533,\n",
       " 'Seinen': 532,\n",
       " 'Mystery': 485,\n",
       " 'Super Power': 451,\n",
       " 'Military': 416,\n",
       " 'Parody': 403,\n",
       " 'Space': 377,\n",
       " 'Horror': 362,\n",
       " 'Harem': 313,\n",
       " 'Demons': 287,\n",
       " 'Martial Arts': 264,\n",
       " 'Dementia': 238,\n",
       " 'Psychological': 226,\n",
       " 'Police': 195,\n",
       " 'Game': 177,\n",
       " 'Samurai': 146,\n",
       " 'Vampire': 100,\n",
       " 'Thriller': 86,\n",
       " 'Cars': 72,\n",
       " 'Shounen Ai': 62,\n",
       " 'Shoujo Ai': 54,\n",
       " 'Josei': 52,\n",
       " 'Yuri': 41,\n",
       " 'Yaoi': 38}"
      ]
     },
     "execution_count": 253,
     "metadata": {},
     "output_type": "execute_result"
    }
   ],
   "source": [
    "# check the distribution of each genre\n",
    "dic = {}\n",
    "for i in anime.columns[6:]:\n",
    "\n",
    "    num_1 = anime.loc[anime[i]==1].shape[0]\n",
    "    num_0 = anime.loc[anime[i]==0].shape[0]\n",
    "    if num_1+num_0 != anime.shape[0]:\n",
    "        print(\"error\")\n",
    "    else:\n",
    "        dic[i] = num_1\n",
    "dic =dict(sorted(dic.items(), key=lambda item: item[1],reverse=True))\n",
    "dic"
   ]
  },
  {
   "cell_type": "code",
   "execution_count": 254,
   "metadata": {},
   "outputs": [
    {
     "data": {
      "text/plain": [
       "49"
      ]
     },
     "execution_count": 254,
     "metadata": {},
     "output_type": "execute_result"
    }
   ],
   "source": [
    "len(dic.keys())+6"
   ]
  },
  {
   "cell_type": "code",
   "execution_count": 255,
   "metadata": {},
   "outputs": [
    {
     "data": {
      "text/plain": [
       "([<matplotlib.patches.Wedge at 0x1567d2170>,\n",
       "  <matplotlib.patches.Wedge at 0x1567d2890>,\n",
       "  <matplotlib.patches.Wedge at 0x1567d2fb0>,\n",
       "  <matplotlib.patches.Wedge at 0x1567d3670>,\n",
       "  <matplotlib.patches.Wedge at 0x1567d3d90>,\n",
       "  <matplotlib.patches.Wedge at 0x1567b44f0>,\n",
       "  <matplotlib.patches.Wedge at 0x1567b4c10>,\n",
       "  <matplotlib.patches.Wedge at 0x1567b5330>,\n",
       "  <matplotlib.patches.Wedge at 0x1567b5a50>,\n",
       "  <matplotlib.patches.Wedge at 0x1567b6170>,\n",
       "  <matplotlib.patches.Wedge at 0x1567d2140>,\n",
       "  <matplotlib.patches.Wedge at 0x1567b6f80>,\n",
       "  <matplotlib.patches.Wedge at 0x1567b76a0>,\n",
       "  <matplotlib.patches.Wedge at 0x1567b7dc0>,\n",
       "  <matplotlib.patches.Wedge at 0x156788520>,\n",
       "  <matplotlib.patches.Wedge at 0x156788c40>,\n",
       "  <matplotlib.patches.Wedge at 0x156789360>,\n",
       "  <matplotlib.patches.Wedge at 0x156789a80>,\n",
       "  <matplotlib.patches.Wedge at 0x15678a1a0>,\n",
       "  <matplotlib.patches.Wedge at 0x15678a8c0>,\n",
       "  <matplotlib.patches.Wedge at 0x15678afe0>,\n",
       "  <matplotlib.patches.Wedge at 0x15678b700>,\n",
       "  <matplotlib.patches.Wedge at 0x15678be20>,\n",
       "  <matplotlib.patches.Wedge at 0x156740580>,\n",
       "  <matplotlib.patches.Wedge at 0x156740ca0>,\n",
       "  <matplotlib.patches.Wedge at 0x1567413c0>,\n",
       "  <matplotlib.patches.Wedge at 0x156741ae0>,\n",
       "  <matplotlib.patches.Wedge at 0x156742200>,\n",
       "  <matplotlib.patches.Wedge at 0x156742920>,\n",
       "  <matplotlib.patches.Wedge at 0x156743040>,\n",
       "  <matplotlib.patches.Wedge at 0x156743760>,\n",
       "  <matplotlib.patches.Wedge at 0x156743e80>,\n",
       "  <matplotlib.patches.Wedge at 0x15738c5e0>,\n",
       "  <matplotlib.patches.Wedge at 0x15738cd00>,\n",
       "  <matplotlib.patches.Wedge at 0x15738d420>,\n",
       "  <matplotlib.patches.Wedge at 0x15738db40>,\n",
       "  <matplotlib.patches.Wedge at 0x15738e260>,\n",
       "  <matplotlib.patches.Wedge at 0x15738e980>,\n",
       "  <matplotlib.patches.Wedge at 0x15738f0a0>,\n",
       "  <matplotlib.patches.Wedge at 0x15738f7c0>,\n",
       "  <matplotlib.patches.Wedge at 0x15738fee0>,\n",
       "  <matplotlib.patches.Wedge at 0x157328640>,\n",
       "  <matplotlib.patches.Wedge at 0x157328d60>],\n",
       " [Text(1.0115132630783217, 0.43225099030152153, 'Comedy'),\n",
       "  Text(0.5454810398575032, 0.9552227149497531, 'Action'),\n",
       "  Text(0.07713037750101595, 1.0972925338607527, 'Adventure'),\n",
       "  Text(-0.3587012285260388, 1.0398718328014807, 'Fantasy'),\n",
       "  Text(-0.716771089651371, 0.8344094948165357, 'Sci-Fi'),\n",
       "  Text(-0.9616550632401386, 0.5340594904545797, 'Drama'),\n",
       "  Text(-1.0814577988693244, 0.2011194402953531, 'Shounen'),\n",
       "  Text(-1.0938550977435664, -0.11610781687902472, 'Kids'),\n",
       "  Text(-1.0240995974219915, -0.4015221221304191, 'Romance'),\n",
       "  Text(-0.903692491708997, -0.6271681436654643, 'Slice of Life'),\n",
       "  Text(-0.7531009351986464, -0.8017724000007261, 'School'),\n",
       "  Text(-0.5753071847356065, -0.9375615410156236, 'Hentai'),\n",
       "  Text(-0.3896533284483058, -1.02867404148698, 'Supernatural'),\n",
       "  Text(-0.20960926748286357, -1.0798444123971276, 'Mecha'),\n",
       "  Text(-0.03892858233830631, -1.099310950312572, 'Music'),\n",
       "  Text(0.12006588428007374, -1.093427722088682, 'Historical'),\n",
       "  Text(0.26761076188791216, -1.0669510204886499, 'Magic'),\n",
       "  Text(0.3948240837192972, -1.026700512766609, 'Ecchi'),\n",
       "  Text(0.5030629185844793, -0.9782268141618619, 'Shoujo'),\n",
       "  Text(0.5977314413981903, -0.9234268373639797, 'Sports'),\n",
       "  Text(0.6817751094970304, -0.8632396539028502, 'Seinen'),\n",
       "  Text(0.756420758609821, -0.798641118365529, 'Mystery'),\n",
       "  Text(0.8197509751046681, -0.733490517194971, 'Super Power'),\n",
       "  Text(0.873431914758433, -0.6686678475008483, 'Military'),\n",
       "  Text(0.9194493779203927, -0.6038317989654096, 'Parody'),\n",
       "  Text(0.9588130486513661, -0.5391451917024517, 'Space'),\n",
       "  Text(0.9919187788300574, -0.4754967257555913, 'Horror'),\n",
       "  Text(1.0184735257364639, -0.41558594462991216, 'Harem'),\n",
       "  Text(1.0390458240852354, -0.36108693614008586, 'Demons'),\n",
       "  Text(1.0553726000109789, -0.3101429914508253, 'Martial Arts'),\n",
       "  Text(1.0680753026044385, -0.2630877191478863, 'Dementia'),\n",
       "  Text(1.0779521063397766, -0.21913296520067238, 'Psychological'),\n",
       "  Text(1.0853494783337665, -0.17893157876859347, 'Police'),\n",
       "  Text(1.09063891687128, -0.14320179121031032, 'Game'),\n",
       "  Text(1.0942780302718995, -0.11205174012148011, 'Samurai'),\n",
       "  Text(1.0964530415393003, -0.08826509898718418, 'Vampire'),\n",
       "  Text(1.097754380021994, -0.07025184084796432, 'Thriller'),\n",
       "  Text(1.0986273822283432, -0.05493518925149914, 'Cars'),\n",
       "  Text(1.0992003090779157, -0.04193662507898018, 'Shounen Ai'),\n",
       "  Text(1.0995720888376137, -0.030679332608242748, 'Shoujo Ai'),\n",
       "  Text(1.0998110119496616, -0.02038965409863085, 'Josei'),\n",
       "  Text(1.099941335222743, -0.011360416735744162, 'Yuri'),\n",
       "  Text(1.0999938115376497, -0.0036897938795589723, 'Yaoi')],\n",
       " [Text(0.5517345071336299, 0.23577326743719354, '13%'),\n",
       "  Text(0.29753511264954713, 0.5210305717907744, '8%'),\n",
       "  Text(0.042071115000554146, 0.5985232002876832, '7%'),\n",
       "  Text(-0.1956552155596575, 0.5672028178917167, '6%'),\n",
       "  Text(-0.39096604890074776, 0.45513245171811034, '6%'),\n",
       "  Text(-0.524539125403712, 0.2913051766115889, '6%'),\n",
       "  Text(-0.5898860721105406, 0.10970151288837442, '5%'),\n",
       "  Text(-0.5966482351328544, -0.06333153647946803, '4%'),\n",
       "  Text(-0.5585997804119953, -0.2190120666165922, '4%'),\n",
       "  Text(-0.4929231772958165, -0.34209171472661687, '3%'),\n",
       "  Text(-0.4107823282901707, -0.4373304000003961, '3%'),\n",
       "  Text(-0.3138039189466944, -0.5113972041903401, '3%'),\n",
       "  Text(-0.21253817915362133, -0.5610949317201709, '3%'),\n",
       "  Text(-0.11433232771792556, -0.5890060431257058, '3%'),\n",
       "  Text(-0.02123377218453071, -0.5996241547159482, '2%'),\n",
       "  Text(0.06549048233458567, -0.5964151211392811, '2%'),\n",
       "  Text(0.14596950648431573, -0.5819732839028998, '2%'),\n",
       "  Text(0.21535859111961664, -0.5600184615090593, '2%'),\n",
       "  Text(0.27439795559153407, -0.5335782622701064, '2%'),\n",
       "  Text(0.32603533167174015, -0.5036873658348979, '1%'),\n",
       "  Text(0.37187733245292565, -0.4708579930379182, '1%'),\n",
       "  Text(0.41259314105990236, -0.4356224281993794, '1%'),\n",
       "  Text(0.4471368955116371, -0.40008573665180236, '1%'),\n",
       "  Text(0.4764174080500543, -0.3647279168186445, '1%'),\n",
       "  Text(0.5015178425020324, -0.329362799435678, '1%'),\n",
       "  Text(0.5229889356280177, -0.2940791954740645, '1%'),\n",
       "  Text(0.5410466066345767, -0.25936185041214066, '1%'),\n",
       "  Text(0.5555310140380711, -0.22668324252540661, '1%'),\n",
       "  Text(0.5667522676828556, -0.19695651062186498, '1%'),\n",
       "  Text(0.5756577818241702, -0.1691689044277229, '1%'),\n",
       "  Text(0.58258652869333, -0.14350239226248343, '1%'),\n",
       "  Text(0.5879738761853326, -0.11952707192763946, '1%'),\n",
       "  Text(0.5920088063638725, -0.09759904296468734, '1%'),\n",
       "  Text(0.5948939546570617, -0.07811006793289653, '0%'),\n",
       "  Text(0.5968789256028543, -0.061119130975352785, '0%'),\n",
       "  Text(0.5980652953850729, -0.048144599447555, '0%'),\n",
       "  Text(0.598775116375633, -0.03831918591707144, '0%'),\n",
       "  Text(0.5992512993972781, -0.029964648682635892, '0%'),\n",
       "  Text(0.5995638049515903, -0.022874522770352824, '0%'),\n",
       "  Text(0.5997665939114255, -0.01673418142267786, '0%'),\n",
       "  Text(0.5998969156089062, -0.011121629508344099, '0%'),\n",
       "  Text(0.599968001030587, -0.006196590946769542, '0%'),\n",
       "  Text(0.5999966244750816, -0.0020126148433958027, '0%')])"
      ]
     },
     "execution_count": 255,
     "metadata": {},
     "output_type": "execute_result"
    },
    {
     "data": {
      "image/png": "[encoded data removed]",
      "text/plain": [
       "<Figure size 432x288 with 1 Axes>"
      ]
     },
     "metadata": {},
     "output_type": "display_data"
    }
   ],
   "source": [
    "plt.pie( list(dic.values()),labels=list(dic.keys()),autopct='%1.0f%%')"
   ]
  },
  {
   "cell_type": "code",
   "execution_count": 256,
   "metadata": {},
   "outputs": [
    {
     "data": {
      "image/png": "[encoded data removed]",
      "text/plain": [
       "<Figure size 432x288 with 1 Axes>"
      ]
     },
     "metadata": {
      "needs_background": "light"
     },
     "output_type": "display_data"
    }
   ],
   "source": [
    "plt.bar(list(dic.keys()), dic.values(),width=0.7)\n",
    "plt.autoscale()\n"
   ]
  },
  {
   "cell_type": "markdown",
   "metadata": {},
   "source": [
    "Now let's handle the type"
   ]
  },
  {
   "cell_type": "code",
   "execution_count": 257,
   "metadata": {},
   "outputs": [],
   "source": [
    "type_pd = pd.get_dummies(anime[[\"type\"]])"
   ]
  },
  {
   "cell_type": "code",
   "execution_count": 258,
   "metadata": {},
   "outputs": [
    {
     "data": {
      "text/plain": [
       "{'type_TV': 3671,\n",
       " 'type_OVA': 3285,\n",
       " 'type_Movie': 2296,\n",
       " 'type_Special': 1670,\n",
       " 'type_ONA': 652,\n",
       " 'type_Music': 488}"
      ]
     },
     "execution_count": 258,
     "metadata": {},
     "output_type": "execute_result"
    }
   ],
   "source": [
    "# check the distribution of each type\n",
    "dic = {}\n",
    "for i in type_pd.columns:\n",
    "\n",
    "    num_1 = anime.loc[type_pd[i]==1].shape[0]\n",
    "    num_0 = anime.loc[type_pd[i]==0].shape[0]\n",
    "    if num_1+num_0 != anime.shape[0]:\n",
    "        print(\"error\")\n",
    "    else:\n",
    "        dic[i] = num_1\n",
    "dic =dict(sorted(dic.items(), key=lambda item: item[1],reverse=True))\n",
    "dic"
   ]
  },
  {
   "cell_type": "code",
   "execution_count": 259,
   "metadata": {},
   "outputs": [
    {
     "data": {
      "text/plain": [
       "([<matplotlib.patches.Wedge at 0x15716fd60>,\n",
       "  <matplotlib.patches.Wedge at 0x1571484c0>,\n",
       "  <matplotlib.patches.Wedge at 0x157148be0>,\n",
       "  <matplotlib.patches.Wedge at 0x157149300>,\n",
       "  <matplotlib.patches.Wedge at 0x157149a20>,\n",
       "  <matplotlib.patches.Wedge at 0x15714a140>],\n",
       " [Text(0.6343585717188146, 0.8986596700013112, 'type_TV'),\n",
       "  Text(-1.0240607353404896, 0.40162122744433715, 'type_OVA'),\n",
       "  Text(-0.5186154750571543, -0.9700711257589529, 'type_Movie'),\n",
       "  Text(0.567439261904272, -0.9423442492261176, 'type_Special'),\n",
       "  Text(1.0025871868271012, -0.45256925747350474, 'type_ONA'),\n",
       "  Text(1.0911268222252424, -0.13943549698926921, 'type_Music')],\n",
       " [Text(0.34601376639208065, 0.490178001818897, '30%'),\n",
       "  Text(-0.5585785829129942, 0.2190661240605475, '27%'),\n",
       "  Text(-0.28288116821299325, -0.5291297049594288, '19%'),\n",
       "  Text(0.3095123246750574, -0.5140059541233368, '14%'),\n",
       "  Text(0.5468657382693278, -0.24685595862191162, '5%'),\n",
       "  Text(0.5951600848501322, -0.07605572563051048, '4%')])"
      ]
     },
     "execution_count": 259,
     "metadata": {},
     "output_type": "execute_result"
    },
    {
     "data": {
      "image/png": "[encoded data removed]",
      "text/plain": [
       "<Figure size 432x288 with 1 Axes>"
      ]
     },
     "metadata": {},
     "output_type": "display_data"
    }
   ],
   "source": [
    "plt.pie( list(dic.values()),labels=list(dic.keys()),autopct='%1.0f%%')"
   ]
  },
  {
   "cell_type": "code",
   "execution_count": 260,
   "metadata": {},
   "outputs": [
    {
     "data": {
      "text/plain": [
       "<BarContainer object of 6 artists>"
      ]
     },
     "execution_count": 260,
     "metadata": {},
     "output_type": "execute_result"
    },
    {
     "data": {
      "image/png": "[encoded data removed]",
      "text/plain": [
       "<Figure size 432x288 with 1 Axes>"
      ]
     },
     "metadata": {
      "needs_background": "light"
     },
     "output_type": "display_data"
    }
   ],
   "source": [
    "plt.bar(list(dic.keys()), dic.values(),width=0.7)"
   ]
  },
  {
   "cell_type": "code",
   "execution_count": 261,
   "metadata": {},
   "outputs": [],
   "source": [
    "anime_features = pd.concat([anime[\"genre\"].str.get_dummies(sep=\", \"),pd.get_dummies(anime[[\"type\"]]),anime[[\"rating\",\"episodes\"]]],axis=1)"
   ]
  },
  {
   "cell_type": "code",
   "execution_count": 262,
   "metadata": {},
   "outputs": [
    {
     "data": {
      "text/html": [
       "<div>\n",
       "<style scoped>\n",
       "    .dataframe tbody tr th:only-of-type {\n",
       "        vertical-align: middle;\n",
       "    }\n",
       "\n",
       "    .dataframe tbody tr th {\n",
       "        vertical-align: top;\n",
       "    }\n",
       "\n",
       "    .dataframe thead th {\n",
       "        text-align: right;\n",
       "    }\n",
       "</style>\n",
       "<table border=\"1\" class=\"dataframe\">\n",
       "  <thead>\n",
       "    <tr style=\"text-align: right;\">\n",
       "      <th></th>\n",
       "      <th>Action</th>\n",
       "      <th>Adventure</th>\n",
       "      <th>Cars</th>\n",
       "      <th>Comedy</th>\n",
       "      <th>Dementia</th>\n",
       "      <th>Demons</th>\n",
       "      <th>Drama</th>\n",
       "      <th>Ecchi</th>\n",
       "      <th>Fantasy</th>\n",
       "      <th>Game</th>\n",
       "      <th>...</th>\n",
       "      <th>Yaoi</th>\n",
       "      <th>Yuri</th>\n",
       "      <th>type_Movie</th>\n",
       "      <th>type_Music</th>\n",
       "      <th>type_ONA</th>\n",
       "      <th>type_OVA</th>\n",
       "      <th>type_Special</th>\n",
       "      <th>type_TV</th>\n",
       "      <th>rating</th>\n",
       "      <th>episodes</th>\n",
       "    </tr>\n",
       "  </thead>\n",
       "  <tbody>\n",
       "    <tr>\n",
       "      <th>0</th>\n",
       "      <td>0</td>\n",
       "      <td>0</td>\n",
       "      <td>0</td>\n",
       "      <td>0</td>\n",
       "      <td>0</td>\n",
       "      <td>0</td>\n",
       "      <td>1</td>\n",
       "      <td>0</td>\n",
       "      <td>0</td>\n",
       "      <td>0</td>\n",
       "      <td>...</td>\n",
       "      <td>0</td>\n",
       "      <td>0</td>\n",
       "      <td>1</td>\n",
       "      <td>0</td>\n",
       "      <td>0</td>\n",
       "      <td>0</td>\n",
       "      <td>0</td>\n",
       "      <td>0</td>\n",
       "      <td>9.37</td>\n",
       "      <td>1</td>\n",
       "    </tr>\n",
       "    <tr>\n",
       "      <th>1</th>\n",
       "      <td>1</td>\n",
       "      <td>1</td>\n",
       "      <td>0</td>\n",
       "      <td>0</td>\n",
       "      <td>0</td>\n",
       "      <td>0</td>\n",
       "      <td>1</td>\n",
       "      <td>0</td>\n",
       "      <td>1</td>\n",
       "      <td>0</td>\n",
       "      <td>...</td>\n",
       "      <td>0</td>\n",
       "      <td>0</td>\n",
       "      <td>0</td>\n",
       "      <td>0</td>\n",
       "      <td>0</td>\n",
       "      <td>0</td>\n",
       "      <td>0</td>\n",
       "      <td>1</td>\n",
       "      <td>9.26</td>\n",
       "      <td>64</td>\n",
       "    </tr>\n",
       "    <tr>\n",
       "      <th>2</th>\n",
       "      <td>1</td>\n",
       "      <td>0</td>\n",
       "      <td>0</td>\n",
       "      <td>1</td>\n",
       "      <td>0</td>\n",
       "      <td>0</td>\n",
       "      <td>0</td>\n",
       "      <td>0</td>\n",
       "      <td>0</td>\n",
       "      <td>0</td>\n",
       "      <td>...</td>\n",
       "      <td>0</td>\n",
       "      <td>0</td>\n",
       "      <td>0</td>\n",
       "      <td>0</td>\n",
       "      <td>0</td>\n",
       "      <td>0</td>\n",
       "      <td>0</td>\n",
       "      <td>1</td>\n",
       "      <td>9.25</td>\n",
       "      <td>51</td>\n",
       "    </tr>\n",
       "    <tr>\n",
       "      <th>3</th>\n",
       "      <td>0</td>\n",
       "      <td>0</td>\n",
       "      <td>0</td>\n",
       "      <td>0</td>\n",
       "      <td>0</td>\n",
       "      <td>0</td>\n",
       "      <td>0</td>\n",
       "      <td>0</td>\n",
       "      <td>0</td>\n",
       "      <td>0</td>\n",
       "      <td>...</td>\n",
       "      <td>0</td>\n",
       "      <td>0</td>\n",
       "      <td>0</td>\n",
       "      <td>0</td>\n",
       "      <td>0</td>\n",
       "      <td>0</td>\n",
       "      <td>0</td>\n",
       "      <td>1</td>\n",
       "      <td>9.17</td>\n",
       "      <td>24</td>\n",
       "    </tr>\n",
       "    <tr>\n",
       "      <th>4</th>\n",
       "      <td>1</td>\n",
       "      <td>0</td>\n",
       "      <td>0</td>\n",
       "      <td>1</td>\n",
       "      <td>0</td>\n",
       "      <td>0</td>\n",
       "      <td>0</td>\n",
       "      <td>0</td>\n",
       "      <td>0</td>\n",
       "      <td>0</td>\n",
       "      <td>...</td>\n",
       "      <td>0</td>\n",
       "      <td>0</td>\n",
       "      <td>0</td>\n",
       "      <td>0</td>\n",
       "      <td>0</td>\n",
       "      <td>0</td>\n",
       "      <td>0</td>\n",
       "      <td>1</td>\n",
       "      <td>9.16</td>\n",
       "      <td>51</td>\n",
       "    </tr>\n",
       "  </tbody>\n",
       "</table>\n",
       "<p>5 rows × 51 columns</p>\n",
       "</div>"
      ],
      "text/plain": [
       "   Action  Adventure  Cars  Comedy  Dementia  Demons  Drama  Ecchi  Fantasy  \\\n",
       "0       0          0     0       0         0       0      1      0        0   \n",
       "1       1          1     0       0         0       0      1      0        1   \n",
       "2       1          0     0       1         0       0      0      0        0   \n",
       "3       0          0     0       0         0       0      0      0        0   \n",
       "4       1          0     0       1         0       0      0      0        0   \n",
       "\n",
       "   Game  ...  Yaoi  Yuri  type_Movie  type_Music  type_ONA  type_OVA  \\\n",
       "0     0  ...     0     0           1           0         0         0   \n",
       "1     0  ...     0     0           0           0         0         0   \n",
       "2     0  ...     0     0           0           0         0         0   \n",
       "3     0  ...     0     0           0           0         0         0   \n",
       "4     0  ...     0     0           0           0         0         0   \n",
       "\n",
       "   type_Special  type_TV  rating  episodes  \n",
       "0             0        0    9.37         1  \n",
       "1             0        1    9.26        64  \n",
       "2             0        1    9.25        51  \n",
       "3             0        1    9.17        24  \n",
       "4             0        1    9.16        51  \n",
       "\n",
       "[5 rows x 51 columns]"
      ]
     },
     "execution_count": 262,
     "metadata": {},
     "output_type": "execute_result"
    }
   ],
   "source": [
    "anime_features.head()"
   ]
  },
  {
   "cell_type": "code",
   "execution_count": 263,
   "metadata": {},
   "outputs": [],
   "source": [
    "from sklearn.neighbors import NearestNeighbors"
   ]
  },
  {
   "cell_type": "code",
   "execution_count": 264,
   "metadata": {},
   "outputs": [],
   "source": [
    "nbrs = NearestNeighbors(n_neighbors=6, algorithm='ball_tree').fit(anime_features)"
   ]
  },
  {
   "cell_type": "code",
   "execution_count": 265,
   "metadata": {},
   "outputs": [],
   "source": [
    "distances, indices = nbrs.kneighbors(anime_features)"
   ]
  },
  {
   "cell_type": "code",
   "execution_count": 266,
   "metadata": {},
   "outputs": [],
   "source": [
    "all_anime_names = list(anime.name.values)"
   ]
  },
  {
   "cell_type": "code",
   "execution_count": 267,
   "metadata": {},
   "outputs": [],
   "source": [
    "def get_index_from_name(name):\n",
    "    return anime[anime[\"name\"]==name].index.tolist()[0]"
   ]
  },
  {
   "cell_type": "code",
   "execution_count": 268,
   "metadata": {},
   "outputs": [],
   "source": [
    "def get_id_from_partial_name(partial):\n",
    "    for name in all_anime_names:\n",
    "        if partial in name:\n",
    "            print(name,all_anime_names.index(name))"
   ]
  },
  {
   "cell_type": "code",
   "execution_count": 269,
   "metadata": {},
   "outputs": [],
   "source": [
    "def print_similar_animes(query=None,id=None):\n",
    "    if id:\n",
    "        for id in indices[id][1:]:\n",
    "            print(anime.ix[id][\"name\"])\n",
    "    if query:\n",
    "        found_id = get_index_from_name(query)\n",
    "        for id in indices[found_id][1:]:\n",
    "            print(anime.loc[id][\"name\"])"
   ]
  },
  {
   "cell_type": "code",
   "execution_count": 270,
   "metadata": {},
   "outputs": [
    {
     "name": "stdout",
     "output_type": "stream",
     "text": [
      "Dragon Ball Super\n",
      "Nintama Rantarou\n",
      "Baki\n",
      "One Piece\n",
      "Penguin no Mondai Movie\n"
     ]
    }
   ],
   "source": [
    "print_similar_animes(query=\"Naruto: Shippuuden\")"
   ]
  },
  {
   "cell_type": "code",
   "execution_count": 271,
   "metadata": {},
   "outputs": [
    {
     "name": "stdout",
     "output_type": "stream",
     "text": [
      "Dragon Ball Super\n",
      "Naruto: Shippuuden\n",
      "Yu☆Gi☆Oh! Arc-V\n",
      "Teach\n",
      "Detective Conan\n"
     ]
    }
   ],
   "source": [
    "print_similar_animes(query=\"One Piece\")"
   ]
  },
  {
   "cell_type": "code",
   "execution_count": 272,
   "metadata": {},
   "outputs": [
    {
     "name": "stdout",
     "output_type": "stream",
     "text": [
      "Kaitou Joker 4th Season\n",
      "Teach\n",
      "Nintama Rantarou\n",
      "Penguin no Mondai Movie\n",
      "Doraemon (2005)\n"
     ]
    }
   ],
   "source": [
    "print_similar_animes(query=\"Detective Conan\")"
   ]
  },
  {
   "cell_type": "code",
   "execution_count": 273,
   "metadata": {},
   "outputs": [
    {
     "name": "stdout",
     "output_type": "stream",
     "text": [
      "Kokoro ga Sakebitagatterunda.\n",
      "Hotarubi no Mori e\n",
      "Koe no Katachi\n",
      "Mirai Kara no Message\n",
      "Sen to Chihiro no Kamikakushi\n"
     ]
    }
   ],
   "source": [
    "print_similar_animes(\"Kimi no Na wa.\")"
   ]
  }
 ],
 "metadata": {
  "interpreter": {
   "hash": "aee8b7b246df8f9039afb4144a1f6fd8d2ca17a180786b69acc140d282b71a49"
  },
  "kernelspec": {
   "display_name": "Python 3.10.2 64-bit",
   "language": "python",
   "name": "python3"
  },
  "language_info": {
   "codemirror_mode": {
    "name": "ipython",
    "version": 3
   },
   "file_extension": ".py",
   "mimetype": "text/x-python",
   "name": "python",
   "nbconvert_exporter": "python",
   "pygments_lexer": "ipython3",
   "version": "3.10.2"
  },
  "orig_nbformat": 4
 },
 "nbformat": 4,
 "nbformat_minor": 2
}
